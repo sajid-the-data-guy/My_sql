{
  "nbformat": 4,
  "nbformat_minor": 0,
  "metadata": {
    "colab": {
      "provenance": [],
      "include_colab_link": true
    },
    "kernelspec": {
      "name": "python3",
      "display_name": "Python 3"
    },
    "language_info": {
      "name": "python"
    }
  },
  "cells": [
    {
      "cell_type": "markdown",
      "metadata": {
        "id": "view-in-github",
        "colab_type": "text"
      },
      "source": [
        "<a href=\"https://colab.research.google.com/github/sajid-the-data-guy/My_sql/blob/main/Copy_of_day_03.ipynb\" target=\"_parent\"><img src=\"https://colab.research.google.com/assets/colab-badge.svg\" alt=\"Open In Colab\"/></a>"
      ]
    },
    {
      "cell_type": "code",
      "execution_count": null,
      "metadata": {
        "colab": {
          "base_uri": "https://localhost:8080/"
        },
        "id": "GwJS_CwGXibA",
        "outputId": "5d68ba79-e360-45b7-ef33-62bb6d2f2a74"
      },
      "outputs": [
        {
          "output_type": "stream",
          "name": "stdout",
          "text": [
            "Welcome to rollercoastor ride!!\n",
            "what is your height in cm? 11\n",
            "Sorry, you are not allowed!!\n",
            " grow-up and come next time!\n"
          ]
        }
      ],
      "source": [
        "#day 3\n",
        "#rollercoastor project if and else statement\n",
        "print(\"Welcome to rollercoastor ride!!\")\n",
        "height = int(input(\"what is your height in cm? \"))\n",
        "\n",
        "if height >= 120:\n",
        "  print(\"Your allowed for the rollercoaster ride\")\n",
        "else:\n",
        "  print(\"Sorry, you are not allowed!!\\n grow-up and come next time!\")"
      ]
    },
    {
      "cell_type": "code",
      "source": [
        "#odd or even project\n",
        "print(\"check the value is odd or even \")\n",
        "number = int(input(\"Enter the value in number: \"))\n",
        "\n",
        "if number % 2 == 0:\n",
        "  print(\"its a even number!\")\n",
        "else:\n",
        "  print(\"its a odd number!\")"
      ],
      "metadata": {
        "colab": {
          "base_uri": "https://localhost:8080/"
        },
        "id": "mUYUI6TbbxZg",
        "outputId": "5daa31e2-5ea1-47b2-b75e-21fecce4c200"
      },
      "execution_count": null,
      "outputs": [
        {
          "output_type": "stream",
          "name": "stdout",
          "text": [
            "check the value is odd or even \n",
            "Enter the value in number: 99\n",
            "its a odd number!\n"
          ]
        }
      ]
    },
    {
      "cell_type": "code",
      "source": [
        "#Nested IF and elif statement in python   \n",
        "#rollercoastor project nested if  statement\n",
        "print(\"Welcome to rollercoastor ride!!\")\n",
        "height = int(input(\"what is your height in cm? \"))\n",
        "#nested if statement below\n",
        "if height >= 120:\n",
        "  print(\"Your allowed for the rollercoaster ride\")\n",
        "  age = int (input(\"what is your age? \"))\n",
        "  if age <= 18:\n",
        "    print(\"please pay $7\")\n",
        "  else:\n",
        "    print(\"pay $ 12\")\n",
        "else:\n",
        "  print(\"Sorry, you are not allowed!!\\n grow-up and come next time!\")"
      ],
      "metadata": {
        "id": "sxY9QLoLbxbd",
        "colab": {
          "base_uri": "https://localhost:8080/"
        },
        "outputId": "3c7623c1-1fca-4abe-bc7a-7f67e1c3a151"
      },
      "execution_count": null,
      "outputs": [
        {
          "output_type": "stream",
          "name": "stdout",
          "text": [
            "Welcome to rollercoastor ride!!\n",
            "what is your height in cm? 900\n",
            "Your allowed for the rollercoaster ride\n",
            "what is your age? 18\n",
            "please pay $7\n"
          ]
        }
      ]
    },
    {
      "cell_type": "code",
      "source": [
        "#elif statement in roller coaster project\n",
        "print(\"Welcome to rollercoastor ride!!\")\n",
        "height = int(input(\"what is your height in cm? \"))\n",
        "\n",
        "if height >= 120:\n",
        "  print(\"Your allowed for the rollercoaster ride\")\n",
        "  age = int(input(\"what is your age? \"))\n",
        "  if age <12:\n",
        "    print(\"pay $5\")\n",
        "  elif age <= 18:\n",
        "    print(\"please pay $7\")\n",
        "  else:\n",
        "    print(\"pay $ 12\")\n",
        "else:\n",
        "  print(\"Sorry, you are not allowed!!\\n grow-up and come next time!\")"
      ],
      "metadata": {
        "colab": {
          "base_uri": "https://localhost:8080/"
        },
        "id": "4Xe1BzUKE2MG",
        "outputId": "b4bb3a02-b8b4-4464-eb19-fd22afce486c"
      },
      "execution_count": null,
      "outputs": [
        {
          "output_type": "stream",
          "name": "stdout",
          "text": [
            "Welcome to rollercoastor ride!!\n",
            "what is your height in cm? 200\n",
            "Your allowed for the rollercoaster ride\n",
            "what is your age? 19\n",
            "pay $ 12\n"
          ]
        }
      ]
    },
    {
      "cell_type": "code",
      "source": [
        "#advance Bmi calculator\n",
        "\n",
        "height = float(input(\"enter Your height\"))\n",
        "weight = float(input(\"enter your weight\"))\n",
        "\n",
        "bmi = round(weight / height**2)\n",
        "if bmi < 18.5:\n",
        "  print(f\"your {bmi} is underweight\")\n",
        "elif bmi < 25 :\n",
        "  print(f\"your {bmi} is normal weight\")\n",
        "elif bmi < 30 :\n",
        "  print(f\"your {bmi} is overweight\")\n",
        "elif bmi < 35:\n",
        "  print(f\"your {bmi} is obese\")\n",
        "else:\n",
        "  print(f\"your {bmi} is clinically obese\")\n"
      ],
      "metadata": {
        "id": "cUB-MWgCHZWl",
        "colab": {
          "base_uri": "https://localhost:8080/"
        },
        "outputId": "bbaf3b65-be52-4368-d0f9-08d89cd2be8c"
      },
      "execution_count": null,
      "outputs": [
        {
          "output_type": "stream",
          "name": "stdout",
          "text": [
            "enter Your height1.75\n",
            "enter your weight80\n",
            "your 26 is overweight\n"
          ]
        }
      ]
    },
    {
      "cell_type": "code",
      "source": [
        "#Leap year  \n",
        "year = int(input(\"which year do you want do check\"))\n",
        "\n",
        "if year % 4 == 0:\n",
        "  if year % 100 == 0:\n",
        "    if year % 400 == 0:\n",
        "      print(f\"{year} its a leap year\")\n",
        "    else:\n",
        "      print(\"not leap year\")\n",
        "  else:\n",
        "      print(\"its a leap year\")\n",
        "else:\n",
        "  print(f\"not a leap {year}\")"
      ],
      "metadata": {
        "id": "xcV3JoH_KrFl",
        "colab": {
          "base_uri": "https://localhost:8080/"
        },
        "outputId": "d2f83af2-32e0-484c-86a9-ff19f5e44189"
      },
      "execution_count": null,
      "outputs": [
        {
          "output_type": "stream",
          "name": "stdout",
          "text": [
            "which year do you want do check2009\n",
            "not a leap 2009\n"
          ]
        }
      ]
    },
    {
      "cell_type": "code",
      "source": [
        "#Multiple if condition\n",
        "#roller coaster project 3.0\n",
        "#Also adding a photo charges $3\n",
        "print(\"Welcome to rollercoastor ride!!\")\n",
        "height = int(input(\"what is your height in cm? \"))\n",
        "bill = 0\n",
        "if height >= 120:\n",
        "  print(\"Your allowed for the rollercoaster ride\")\n",
        "  age = int(input(\"what is your age? \"))\n",
        "\n",
        "  if age <12:\n",
        "    bill = 5 \n",
        "    print(f\"pay ${bill}\")\n",
        "  elif age <= 18:\n",
        "    bill = 7\n",
        "    print(f\"please pay ${bill}\")\n",
        "  else:\n",
        "    bill = 12\n",
        "    print(f\"Adult tickets are ${bill}\")\n",
        "  #if person wants a photo means adding extra charge of $3\n",
        "  wants_photo = input(\"Do you want a photo taken? Y or N.\")\n",
        "  if wants_photo == \"Y\" or \"y\":\n",
        "    bill += 3\n",
        "    print(f\"Your amount to pay is: ${bill}\")\n",
        "    \n",
        "\n",
        "\n",
        "else:\n",
        "  print(\"Sorry, you are not allowed!!\\n grow-up and come next time!\")"
      ],
      "metadata": {
        "colab": {
          "base_uri": "https://localhost:8080/"
        },
        "id": "wzx6u2fwzU2g",
        "outputId": "229a1367-2c19-482c-a0e1-2885ebc932f8"
      },
      "execution_count": null,
      "outputs": [
        {
          "output_type": "stream",
          "name": "stdout",
          "text": [
            "Welcome to rollercoastor ride!!\n",
            "what is your height in cm? 120\n",
            "Your allowed for the rollercoaster ride\n",
            "what is your age? 18\n",
            "please pay $7\n",
            "Do you want a photo taken? Y or N.y\n",
            "Your amount to pay is: $10\n"
          ]
        }
      ]
    },
    {
      "cell_type": "code",
      "source": [
        "#Pizza code challenge\n",
        "\n",
        "print(\"Welcome to python pizza Deliveries!\")\n",
        "size = input(\"What is your Pizza size? S, M or L \")\n",
        "add_pepperoni = input(\"Do you want pepperoni? Y or N\")\n",
        "extra_cheese = input(\"Do you want extra cheese? Y or N \")\n",
        "\n",
        "#declaring bill variable \n",
        "bill = 0\n",
        "\n",
        "if size == \"S\":\n",
        "  bill += 15\n",
        "  \n",
        "elif size == \"M\":\n",
        "  bill += 20\n",
        " \n",
        "else:\n",
        "  bill += 25\n",
        "\n",
        "if add_pepperoni == \"Y\":\n",
        "  if size == \"S\":\n",
        "    bill += 2\n",
        "  else:\n",
        "    bill += 3  \n",
        "\n",
        "if extra_cheese == \"Y\":\n",
        "  bill += 1\n",
        "print(f\"your bill is ${bill}\")\n",
        "\n"
      ],
      "metadata": {
        "colab": {
          "base_uri": "https://localhost:8080/"
        },
        "id": "UnTXmcX5ea4k",
        "outputId": "512c511f-485a-4523-ab1f-ff37a0071194"
      },
      "execution_count": null,
      "outputs": [
        {
          "output_type": "stream",
          "name": "stdout",
          "text": [
            "Welcome to python pizza Deliveries!\n",
            "What is your Pizza size? S, M or L L\n",
            "Do you want pepperoni? Y or NY\n",
            "Do you want extra cheese? Y or N Y\n",
            "your bill is $29\n"
          ]
        }
      ]
    },
    {
      "cell_type": "code",
      "source": [
        "#logical operator\n",
        "# A and B\n",
        "# C or D\n",
        "# not E\n",
        "\n"
      ],
      "metadata": {
        "id": "SWhPcooHpP5g"
      },
      "execution_count": null,
      "outputs": []
    },
    {
      "cell_type": "code",
      "source": [
        "#Changing upper case  String into lower case\n",
        "input_name = input(\"What is your name: \")\n",
        "input_name = input_name.lower()\n",
        "print(input_name)"
      ],
      "metadata": {
        "colab": {
          "base_uri": "https://localhost:8080/"
        },
        "id": "LCsXUw3AE6JJ",
        "outputId": "299c0561-797a-4ecf-d240-3667dc8bf609"
      },
      "execution_count": null,
      "outputs": [
        {
          "output_type": "stream",
          "name": "stdout",
          "text": [
            "What is your name: SAJID\n",
            "sajid\n"
          ]
        }
      ]
    },
    {
      "cell_type": "code",
      "source": [
        "#counting the words in the user name\n",
        "\"Sajid_Abbas\".count(\"a\")\n",
        "#in the above code we founded that if incase the user name is in upper case means it wont count the word\n",
        "#we are changing into lowercase and counting the variable which contains name or string\n",
        "user_name = \"Sajid_Abbas\".lower()\n",
        "user_name = user_name.count(\"a\")\n",
        "print(user_name)"
      ],
      "metadata": {
        "colab": {
          "base_uri": "https://localhost:8080/"
        },
        "id": "bV5r4vCHE52b",
        "outputId": "db748c5c-b550-41cd-b944-517e9f4da8b9"
      },
      "execution_count": null,
      "outputs": [
        {
          "output_type": "stream",
          "name": "stdout",
          "text": [
            "3\n"
          ]
        }
      ]
    },
    {
      "cell_type": "code",
      "source": [
        "#Love calc project \n",
        "print(\"welcome to the love Calculator!\")\n",
        "name1 = input(\"what is your name? \\n\")\n",
        "name2 = input(\"what is your name? \\n\")\n",
        "#combining the both variable in one variable\n",
        "combined_name = name1 + name2\n",
        "#making the that variable as lowercase so that we can use count\n",
        "lower_case = combined_name.lower()\n",
        "print(lower_case)\n",
        "\n",
        "t = lower_case.count(\"t\")\n",
        "r = lower_case.count(\"r\")\n",
        "u = lower_case.count(\"u\")\n",
        "e = lower_case.count(\"e\")\n",
        "#adding all int into a variable\n",
        "true = t+r+u+e\n",
        "\n",
        "l = lower_case.count(\"l\")\n",
        "o = lower_case.count(\"o\")\n",
        "v = lower_case.count(\"v\")\n",
        "e = lower_case.count(\"e\")\n",
        "\n",
        "love = l+o+v+e\n",
        "#adding both true and love in one variable\n",
        "true_love = str(true) + str(love)\n",
        "#concatenating the str in to int to use in if statement\n",
        "true_love = int(true_love)\n",
        "print(true_love)\n",
        "\n",
        "if (true_love<10) or (true_love>90):\n",
        "  print(f\"Your score is {true_love} you go together like a coke and mentos.\")\n",
        "elif (true_love>=40) or (true_love<=50):\n",
        "  print(f\"Your score is {true_love}, You alright together\")\n",
        "else:\n",
        "  print(f\"your score is {true_love}\")\n"
      ],
      "metadata": {
        "id": "iJXmIt10bF1u",
        "colab": {
          "base_uri": "https://localhost:8080/"
        },
        "outputId": "20245526-5332-434e-ed8e-c9fc2df9b8f8"
      },
      "execution_count": null,
      "outputs": [
        {
          "output_type": "stream",
          "name": "stdout",
          "text": [
            "welcome to the love Calculator!\n",
            "what is your name? \n",
            "salman khan \n",
            "what is your name? \n",
            "katrina kaif\n",
            "salman khan katrina kaif\n",
            "21\n",
            "Your score is 21, You alright together\n"
          ]
        }
      ]
    },
    {
      "cell_type": "code",
      "source": [
        "#tresure project\n",
        "print(\"Welcome to the Tresure island,\\nyour mission is to find the tresure.\")\n",
        "print('''\n",
        "                    _.--.\n",
        "                        _.-'_:-'||\n",
        "                    _.-'_.-::::'||\n",
        "               _.-:'_.-::::::'  ||\n",
        "             .'`-.-:::::::'     ||\n",
        "            /.'`;|:::::::'      ||_\n",
        "           ||   ||::::::'     _.;._'-._\n",
        "           ||   ||:::::'  _.-!oo @.!-._'-.\n",
        "           \\'.  ||:::::.-!()oo @!()@.-'_.|\n",
        "            '.'-;|:.-'.&$@.& ()$%-'o.'\\\\U||\n",
        "              `>'-.!@%()@'@_%-'_.-o _.|'||\n",
        "               ||-._'-.@.-'_.-' _.-o  |'||\n",
        "               ||=[ '-._.-\\\\U/.-'    o |'||\n",
        "               || '-.]=|| |'|      o  |'||\n",
        "               ||      || |'|        _| ';\n",
        "               ||      || |'|    _.-'_.-'\n",
        "               |'-._   || |'|_.-'_.-'\n",
        "            jgs '-._'-.|| |' `_.-'\n",
        "                    '-.||_/.-'\n",
        "\n",
        "''')\n",
        "\n",
        "\n",
        "step1 = input(\"where do you wanna go: left or right\").lower()\n",
        "if step1 == \"left\":\n",
        "  step2= input(\"what do you wanna do next: swim or wait\").lower()\n",
        "  if step2 == \"wait\":\n",
        "    step3 = input(\"which door you wanna go: RED, BLUE, Yellow \").lower()\n",
        "    if step3 == \"yellow\":\n",
        "      print(\"You win\")\n",
        "    else:\n",
        "      print(\"game over\")\n",
        "  else:\n",
        "    print(\"Game over\")\n",
        "else:\n",
        "  print(\"Game over\")"
      ],
      "metadata": {
        "colab": {
          "base_uri": "https://localhost:8080/"
        },
        "id": "tq-cmRhsOnem",
        "outputId": "8ea0682a-0f37-4431-ae14-f66012ee432b"
      },
      "execution_count": 2,
      "outputs": [
        {
          "output_type": "stream",
          "name": "stdout",
          "text": [
            "Welcome to the Tresure island,\n",
            "your mission is to find the tresure.\n",
            "\n",
            "                    _.--.\n",
            "                        _.-'_:-'||\n",
            "                    _.-'_.-::::'||\n",
            "               _.-:'_.-::::::'  ||\n",
            "             .'`-.-:::::::'     ||\n",
            "            /.'`;|:::::::'      ||_\n",
            "           ||   ||::::::'     _.;._'-._\n",
            "           ||   ||:::::'  _.-!oo @.!-._'-.\n",
            "           '.  ||:::::.-!()oo @!()@.-'_.|\n",
            "            '.'-;|:.-'.&$@.& ()$%-'o.'\\U||\n",
            "              `>'-.!@%()@'@_%-'_.-o _.|'||\n",
            "               ||-._'-.@.-'_.-' _.-o  |'||\n",
            "               ||=[ '-._.-\\U/.-'    o |'||\n",
            "               || '-.]=|| |'|      o  |'||\n",
            "               ||      || |'|        _| ';\n",
            "               ||      || |'|    _.-'_.-'\n",
            "               |'-._   || |'|_.-'_.-'\n",
            "            jgs '-._'-.|| |' `_.-'\n",
            "                    '-.||_/.-'\n",
            "\n",
            "\n",
            "where do you wanna go: left or rightleft\n",
            "what do you wanna do next: swim or waitwait\n",
            "which door you wanna go: RED, BLUE, Yellow yellow\n",
            "You win\n"
          ]
        }
      ]
    }
  ]
}